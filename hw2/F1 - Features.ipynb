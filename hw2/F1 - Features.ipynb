{
 "cells": [
  {
   "cell_type": "code",
   "execution_count": 1,
   "metadata": {
    "collapsed": true
   },
   "outputs": [],
   "source": [
    "import numpy as np\n",
    "import os\n",
    "import sys\n",
    "from itertools import islice # slicing for iterators\n",
    "import math\n",
    "\n",
    "from nltk.util import ngrams\n",
    "from collections import Counter\n",
    "from scipy.stats import pearsonr"
   ]
  },
  {
   "cell_type": "code",
   "execution_count": 2,
   "metadata": {
    "collapsed": true
   },
   "outputs": [],
   "source": [
    "def word_matches(h, ref):\n",
    "    return sum(1 for w in h if w in ref)"
   ]
  },
  {
   "cell_type": "code",
   "execution_count": 3,
   "metadata": {
    "collapsed": true
   },
   "outputs": [],
   "source": [
    "def modified_precision(h,ref,n):\n",
    "    ng_counts_h = Counter(ngrams(h,n))\n",
    "    ng_counts_ref = Counter(ngrams(ref,n))\n",
    "    modified_counts = Counter()\n",
    "    if not ng_counts_h:\n",
    "        return 0\n",
    "    for ng in ng_counts_h.keys():\n",
    "        modified_counts[ng] = max(modified_counts[ng], ng_counts_ref[ng])\n",
    "        truncated_cts = Counter((ng, min(ng_counts_h[ng],modified_counts[ng])) for ng in ng_counts_h)\n",
    "    return sum(truncated_cts.values())/float(sum(ng_counts_h.values()))"
   ]
  },
  {
   "cell_type": "code",
   "execution_count": 4,
   "metadata": {
    "collapsed": true
   },
   "outputs": [],
   "source": [
    "def weighted_F1_pos(h, ref, rho):\n",
    "    mod_prec = modified_precision(h ,ref, 2)\n",
    "    \n",
    "    h = Counter(h)\n",
    "    ref = Counter(ref)\n",
    "    \n",
    "    precision = {pos:0 for pos in h}\n",
    "    for pos in h:\n",
    "        if pos in ref:\n",
    "            precision[pos] += 1\n",
    "    \n",
    "    for pos in ref:\n",
    "        if pos in precision:\n",
    "            precision[pos] = float(precision[pos]) / float(ref[pos])\n",
    "    \n",
    "    precision = 0.5 * sum(precision.values()) + 0.5 * mod_prec\n",
    "    \n",
    "    recall = {pos:0 for pos in ref}\n",
    "    for pos in ref:\n",
    "        if pos in h:\n",
    "            recall[pos] += 1\n",
    "    \n",
    "    for pos in h:\n",
    "        if pos in recall:\n",
    "            recall[pos] = float(recall[pos]) / float(h[pos])\n",
    "    \n",
    "    recall = sum(recall.values())\n",
    "    \n",
    "    if precision == 0 or recall == 0:\n",
    "        return 0\n",
    "    f_1 = (1-rho) * precision ** -1 + rho * recall ** -1\n",
    "    return f_1 ** -1"
   ]
  },
  {
   "cell_type": "code",
   "execution_count": 5,
   "metadata": {
    "collapsed": true
   },
   "outputs": [],
   "source": [
    "def weighted_F1_norm(h, ref, rho):\n",
    "    \n",
    "    mod_prec = modified_precision(h, ref, 2)\n",
    "    h = Counter(h)\n",
    "    ref = Counter(ref)\n",
    "    \n",
    "    precision = 0\n",
    "    for word in h:\n",
    "        if word in ref:\n",
    "            precision += min(h[word], ref[word]) / float(h[word])\n",
    "    \n",
    "    precision = 0.5 * (precision / float(len(h))) + 0.5 * mod_prec\n",
    "    \n",
    "    recall = 0\n",
    "    for word in ref:\n",
    "        if word in h:\n",
    "            recall += min(h[word], ref[word]) / float(ref[word])\n",
    "    \n",
    "    recall = recall / float(len(ref))\n",
    "    \n",
    "    if precision == 0 or recall == 0:\n",
    "        return 0\n",
    "    f_1 = (1-rho) * precision ** -1 + rho * recall ** -1\n",
    "    return f_1 ** -1"
   ]
  },
  {
   "cell_type": "code",
   "execution_count": 6,
   "metadata": {
    "collapsed": true
   },
   "outputs": [],
   "source": [
    "def weighted_F1(h,ref,rho):\n",
    "    #h = list(ngrams(h_i,2)) + list(h_i)\n",
    "    #ref = list(ngrams(ref_i,2)) + list(ref_i)\n",
    "    \n",
    "    precision = float(sum(1 for w in h if w in ref))/len(h)\n",
    "    precision = 0.5*modified_precision(h,ref,2) + 0.5*precision\n",
    "    \n",
    "    recall = float(sum(1 for w in ref if w in h))/len(ref)\n",
    "    if precision == 0 or recall == 0:\n",
    "        return 0\n",
    "    ret = (1-rho) * (precision)**-1 + rho * (recall)**-1\n",
    "    return  ret**-1"
   ]
  },
  {
   "cell_type": "code",
   "execution_count": 7,
   "metadata": {
    "collapsed": true
   },
   "outputs": [],
   "source": [
    "def BLEU(h,ref,n):\n",
    "    def brevity_penalty(h,ref):\n",
    "        c = len(h)\n",
    "        r = len(ref)\n",
    "        if c >= r:\n",
    "            return 1\n",
    "        else:\n",
    "            return math.exp(1 - r/c)\n",
    "        \n",
    "        weights = [1.0/n for x in xrange(n)]\n",
    "        mod_p = 0\n",
    "        for i,w in enumerate(weights):\n",
    "            x = modified_precision(h,ref,i)\n",
    "            if x == 0:\n",
    "                return 0\n",
    "            mod_p += w*math.log(x)\n",
    "            \n",
    "        return brevity_penalty(h,ref) * math.exp(mod_p)"
   ]
  },
  {
   "cell_type": "code",
   "execution_count": 8,
   "metadata": {
    "collapsed": true
   },
   "outputs": [],
   "source": [
    "path_to_train = 'data/train-test.hyp1-hyp2-ref'"
   ]
  },
  {
   "cell_type": "code",
   "execution_count": 9,
   "metadata": {
    "collapsed": true
   },
   "outputs": [],
   "source": [
    "lines = [line.strip().split('|||') for line in open(path_to_train, 'r')]"
   ]
  },
  {
   "cell_type": "code",
   "execution_count": 10,
   "metadata": {
    "collapsed": true
   },
   "outputs": [],
   "source": [
    "path_to_tree_features = 'data/features.parse'\n",
    "path_to_embedding_features = 'data/features.embedding.final'\n",
    "path_to_lm_features = 'data/features.lm'\n",
    "path_to_pos_features = 'data/features.pos'"
   ]
  },
  {
   "cell_type": "code",
   "execution_count": 11,
   "metadata": {
    "collapsed": true
   },
   "outputs": [],
   "source": [
    "path_to_labels = 'data/train.gold'"
   ]
  },
  {
   "cell_type": "code",
   "execution_count": 12,
   "metadata": {
    "collapsed": true
   },
   "outputs": [],
   "source": [
    "path_to_pos_tags = 'data/train-test.hyp1-hyp2-ref.pos'\n",
    "pos_lines = [line.strip().split() for line in open(path_to_pos_tags, 'r')]\n",
    "pos_lines = [[x.split('_')[1] for x in line] for line in pos_lines]\n",
    "pos_tags = []\n",
    "for i in range(0, len(pos_lines), 3):\n",
    "    pos_tags.append(pos_lines[i:i+3])"
   ]
  },
  {
   "cell_type": "code",
   "execution_count": 13,
   "metadata": {
    "collapsed": false
   },
   "outputs": [],
   "source": [
    "f1_features = []\n",
    "for line in lines:\n",
    "    f1_features.append(weighted_F1_norm(line[0].split(), line[2].split(), 0.6) - weighted_F1_norm(line[1].split(), line[2].split(), 0.6))"
   ]
  },
  {
   "cell_type": "code",
   "execution_count": 14,
   "metadata": {
    "collapsed": false
   },
   "outputs": [],
   "source": [
    "pos_features = []\n",
    "for line in pos_tags:\n",
    "    pos_features.append(weighted_F1_pos(line[0], line[2], 0.6) - weighted_F1_pos(line[1], line[2], 0.6))"
   ]
  },
  {
   "cell_type": "code",
   "execution_count": 80,
   "metadata": {
    "collapsed": false
   },
   "outputs": [],
   "source": [
    "labels = [int(line.strip()) for line in open(path_to_labels)]"
   ]
  },
  {
   "cell_type": "code",
   "execution_count": 131,
   "metadata": {
    "collapsed": false
   },
   "outputs": [
    {
     "data": {
      "text/plain": [
       "(0.21330695003500347, 2.3350437768947557e-267)"
      ]
     },
     "execution_count": 131,
     "metadata": {},
     "output_type": "execute_result"
    }
   ],
   "source": [
    "pearsonr(f1_features[:len(labels)], labels)"
   ]
  },
  {
   "cell_type": "code",
   "execution_count": 135,
   "metadata": {
    "collapsed": false
   },
   "outputs": [],
   "source": [
    "f1_features = [-x for x in f1_features] # I accidentally did 0 - 2 instead of 2 - 0\n",
    "f1_preds = [-1 if x < 0 else 1 for x in f1_features]"
   ]
  },
  {
   "cell_type": "code",
   "execution_count": 144,
   "metadata": {
    "collapsed": false
   },
   "outputs": [],
   "source": [
    "pos_features = [-x for x in pos_features] # I accidentally did 0 - 2 instead of 2 - 0\n",
    "pos_preds = [-1 if x < 0 else 1 for x in pos_features]"
   ]
  },
  {
   "cell_type": "code",
   "execution_count": 155,
   "metadata": {
    "collapsed": false
   },
   "outputs": [
    {
     "data": {
      "text/plain": [
       "(0.12755806750468335, 1.7101038788232369e-95)"
      ]
     },
     "execution_count": 155,
     "metadata": {},
     "output_type": "execute_result"
    }
   ],
   "source": [
    "pearsonr(pos_features[:len(labels)], labels)"
   ]
  },
  {
   "cell_type": "code",
   "execution_count": 156,
   "metadata": {
    "collapsed": true
   },
   "outputs": [],
   "source": [
    "f1_f = open('data/features.f1', 'w')\n",
    "pos_f = open('data/features.pos', 'w')\n",
    "for f1, pos in zip(f1_features, pos_features):\n",
    "    f1_f.write(str(f1) + '\\n')\n",
    "    pos_f.write(str(pos) + '\\n')\n",
    "f1_f.close()\n",
    "pos_f.close()"
   ]
  },
  {
   "cell_type": "code",
   "execution_count": null,
   "metadata": {
    "collapsed": true
   },
   "outputs": [],
   "source": []
  }
 ],
 "metadata": {
  "kernelspec": {
   "display_name": "Python 2",
   "language": "python",
   "name": "python2"
  },
  "language_info": {
   "codemirror_mode": {
    "name": "ipython",
    "version": 2
   },
   "file_extension": ".py",
   "mimetype": "text/x-python",
   "name": "python",
   "nbconvert_exporter": "python",
   "pygments_lexer": "ipython2",
   "version": "2.7.11"
  }
 },
 "nbformat": 4,
 "nbformat_minor": 0
}

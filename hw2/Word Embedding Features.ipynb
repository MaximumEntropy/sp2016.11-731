{
 "cells": [
  {
   "cell_type": "code",
   "execution_count": 7,
   "metadata": {
    "collapsed": false
   },
   "outputs": [],
   "source": [
    "import theano\n",
    "import theano.tensor as T\n",
    "import numpy as np\n",
    "import os\n",
    "import sys\n",
    "import nltk\n",
    "from sklearn.metrics.pairwise import cosine_similarity\n",
    "import codecs\n",
    "from scipy.stats import pearsonr\n",
    "import scipy"
   ]
  },
  {
   "cell_type": "code",
   "execution_count": 104,
   "metadata": {
    "collapsed": true
   },
   "outputs": [],
   "source": [
    "path_to_pretrained_vectors = 'data/glove.6B/glove.6B.200d.txt'"
   ]
  },
  {
   "cell_type": "code",
   "execution_count": 105,
   "metadata": {
    "collapsed": true
   },
   "outputs": [],
   "source": [
    "lines = [line.strip().split() for line in open(path_to_pretrained_vectors, 'r')]"
   ]
  },
  {
   "cell_type": "code",
   "execution_count": 106,
   "metadata": {
    "collapsed": false
   },
   "outputs": [],
   "source": [
    "word_to_ind = {x[0]:ind for ind, x in enumerate(lines)}\n",
    "ind_to_word = {ind:x[0] for ind, x in enumerate(lines)}"
   ]
  },
  {
   "cell_type": "code",
   "execution_count": 118,
   "metadata": {
    "collapsed": true
   },
   "outputs": [],
   "source": [
    "word_to_ind['<UNK>'] = len(lines)\n",
    "ind_to_word[len(lines)] = '<UNK>'"
   ]
  },
  {
   "cell_type": "code",
   "execution_count": 107,
   "metadata": {
    "collapsed": false
   },
   "outputs": [],
   "source": [
    "english_embedding = np.array([line[1:] for line in lines]).astype(np.float32)"
   ]
  },
  {
   "cell_type": "code",
   "execution_count": 108,
   "metadata": {
    "collapsed": true
   },
   "outputs": [],
   "source": [
    "english_embedding = np.vstack((english_embedding, 2 * np.random.rand(200) - 1))"
   ]
  },
  {
   "cell_type": "code",
   "execution_count": 109,
   "metadata": {
    "collapsed": true
   },
   "outputs": [],
   "source": [
    "path_to_data = 'data/train-test.hyp1-hyp2-ref'\n",
    "path_to_labels = 'data/train.gold'"
   ]
  },
  {
   "cell_type": "code",
   "execution_count": 110,
   "metadata": {
    "collapsed": true
   },
   "outputs": [],
   "source": [
    "lines = [line.strip().split('|||') for line in codecs.open(path_to_data, 'rb', encoding='utf8')]"
   ]
  },
  {
   "cell_type": "code",
   "execution_count": 111,
   "metadata": {
    "collapsed": false
   },
   "outputs": [],
   "source": [
    "labels = [int(line.strip()) for line in open(path_to_labels, 'r')]"
   ]
  },
  {
   "cell_type": "code",
   "execution_count": 13,
   "metadata": {
    "collapsed": false
   },
   "outputs": [
    {
     "name": "stdout",
     "output_type": "stream",
     "text": [
      "Finished 0 lines out of 50339\n",
      "Finished 1000 lines out of 50339\n",
      "Finished 2000 lines out of 50339\n",
      "Finished 3000 lines out of 50339\n",
      "Finished 4000 lines out of 50339\n",
      "Finished 5000 lines out of 50339\n",
      "Finished 6000 lines out of 50339\n",
      "Finished 7000 lines out of 50339\n",
      "Finished 8000 lines out of 50339\n",
      "Finished 9000 lines out of 50339\n",
      "Finished 10000 lines out of 50339\n",
      "Finished 11000 lines out of 50339\n",
      "Finished 12000 lines out of 50339\n",
      "Finished 13000 lines out of 50339\n",
      "Finished 14000 lines out of 50339\n",
      "Finished 15000 lines out of 50339\n",
      "Finished 16000 lines out of 50339\n",
      "Finished 17000 lines out of 50339\n",
      "Finished 18000 lines out of 50339\n",
      "Finished 19000 lines out of 50339\n",
      "Finished 20000 lines out of 50339\n",
      "Finished 21000 lines out of 50339\n",
      "Finished 22000 lines out of 50339\n",
      "Finished 23000 lines out of 50339\n",
      "Finished 24000 lines out of 50339\n",
      "Finished 25000 lines out of 50339\n",
      "Finished 26000 lines out of 50339\n",
      "Finished 27000 lines out of 50339\n",
      "Finished 28000 lines out of 50339\n",
      "Finished 29000 lines out of 50339\n",
      "Finished 30000 lines out of 50339\n",
      "Finished 31000 lines out of 50339\n",
      "Finished 32000 lines out of 50339\n",
      "Finished 33000 lines out of 50339\n",
      "Finished 34000 lines out of 50339\n",
      "Finished 35000 lines out of 50339\n",
      "Finished 36000 lines out of 50339\n",
      "Finished 37000 lines out of 50339\n",
      "Finished 38000 lines out of 50339\n",
      "Finished 39000 lines out of 50339\n",
      "Finished 40000 lines out of 50339\n",
      "Finished 41000 lines out of 50339\n",
      "Finished 42000 lines out of 50339\n",
      "Finished 43000 lines out of 50339\n",
      "Finished 44000 lines out of 50339\n",
      "Finished 45000 lines out of 50339\n",
      "Finished 46000 lines out of 50339\n",
      "Finished 47000 lines out of 50339\n",
      "Finished 48000 lines out of 50339\n",
      "Finished 49000 lines out of 50339\n",
      "Finished 50000 lines out of 50339\n",
      "Found 3513 OOV \n"
     ]
    }
   ],
   "source": [
    "oov = set()\n",
    "for ind, line in enumerate(lines):\n",
    "    \n",
    "    if ind % 1000 == 0:\n",
    "        print 'Finished %d lines out of %d' % (ind, len(lines)) \n",
    "    line1 = nltk.word_tokenize(line[0].lower())\n",
    "    line2 = nltk.word_tokenize(line[1].lower())\n",
    "    line3 = nltk.word_tokenize(line[2].lower())\n",
    "    for word in line1:\n",
    "        if word not in word_to_ind:\n",
    "            oov.add(word)\n",
    "    for word in line2:\n",
    "        if word not in word_to_ind:\n",
    "            oov.add(word)\n",
    "    for word in line3:\n",
    "        if word not in word_to_ind:\n",
    "            oov.add(word)\n",
    "print 'Found %d OOV ' % (len(oov))"
   ]
  },
  {
   "cell_type": "code",
   "execution_count": 112,
   "metadata": {
    "collapsed": false
   },
   "outputs": [],
   "source": [
    "def apply_diag_penalty(matrix):\n",
    "    for i in range(matrix.shape[0]):\n",
    "        for j in range(matrix.shape[1]):\n",
    "            matrix[i][j] *= np.exp(-0.75 * abs(float(i)/matrix.shape[0] - float(j)/matrix.shape[1]))"
   ]
  },
  {
   "cell_type": "code",
   "execution_count": 113,
   "metadata": {
    "collapsed": true
   },
   "outputs": [],
   "source": [
    "def frobenius_norm(matrix):\n",
    "    return np.linalg.norm(matrix, ord='fro')"
   ]
  },
  {
   "cell_type": "code",
   "execution_count": 114,
   "metadata": {
    "collapsed": false
   },
   "outputs": [],
   "source": [
    "def assignment_problem_score(matrix):\n",
    "    inds1, inds2 = scipy.optimize.linear_sum_assignment(matrix)\n",
    "    return matrix[inds1, inds2].sum()"
   ]
  },
  {
   "cell_type": "code",
   "execution_count": 115,
   "metadata": {
    "collapsed": true
   },
   "outputs": [],
   "source": [
    "def reciprocal_matrix(matrix):\n",
    "    for i in range(matrix.shape[0]):\n",
    "        for j in range(matrix.shape[1]):\n",
    "            matrix[i][j] = 1.0 / matrix[i][j]"
   ]
  },
  {
   "cell_type": "code",
   "execution_count": 121,
   "metadata": {
    "collapsed": true
   },
   "outputs": [],
   "source": [
    "def get_word_embedding_distance(line1, line2, line3):\n",
    "    \n",
    "    line1_embedding = english_embedding[[word_to_ind[word] if word in word_to_ind else word_to_ind['<UNK>'] for word in line1]]\n",
    "    line2_embedding = english_embedding[[word_to_ind[word] if word in word_to_ind else word_to_ind['<UNK>'] for word in line2]]\n",
    "    line3_embedding = english_embedding[[word_to_ind[word] if word in word_to_ind else word_to_ind['<UNK>'] for word in line3]]\n",
    "    \n",
    "    dist1 = cosine_similarity(line1_embedding, line3_embedding)\n",
    "    dist2 = cosine_similarity(line2_embedding, line3_embedding)\n",
    "    \n",
    "    apply_diag_penalty(dist1)\n",
    "    apply_diag_penalty(dist2)\n",
    "    \n",
    "    #score1 = frobenius_norm(dist1)\n",
    "    #score2 = frobenius_norm(dist2)\n",
    "    \n",
    "    reciprocal_matrix(dist1)\n",
    "    reciprocal_matrix(dist2)\n",
    "    \n",
    "    score1 = assignment_problem_score(dist1)\n",
    "    score2 = assignment_problem_score(dist2)\n",
    "    \n",
    "    score1 = (score1 * 2) / (len(line1) + len(line3))\n",
    "    score2 = (score2 * 2) / (len(line2) + len(line3))\n",
    "    \n",
    "    return score1, score2"
   ]
  },
  {
   "cell_type": "code",
   "execution_count": 122,
   "metadata": {
    "collapsed": false
   },
   "outputs": [
    {
     "name": "stdout",
     "output_type": "stream",
     "text": [
      "Finished 0 out of 50339 lines \n",
      "Finished 1000 out of 50339 lines \n",
      "Finished 2000 out of 50339 lines \n",
      "Finished 3000 out of 50339 lines \n",
      "Finished 4000 out of 50339 lines \n",
      "Finished 5000 out of 50339 lines \n",
      "Finished 6000 out of 50339 lines \n",
      "Finished 7000 out of 50339 lines \n",
      "Finished 8000 out of 50339 lines \n",
      "Finished 9000 out of 50339 lines \n",
      "Finished 10000 out of 50339 lines \n",
      "Finished 11000 out of 50339 lines \n",
      "Finished 12000 out of 50339 lines \n",
      "Finished 13000 out of 50339 lines \n",
      "Finished 14000 out of 50339 lines \n",
      "Finished 15000 out of 50339 lines \n",
      "Finished 16000 out of 50339 lines \n",
      "Finished 17000 out of 50339 lines \n",
      "Finished 18000 out of 50339 lines \n",
      "Finished 19000 out of 50339 lines \n",
      "Finished 20000 out of 50339 lines \n",
      "Finished 21000 out of 50339 lines \n",
      "Finished 22000 out of 50339 lines \n",
      "Finished 23000 out of 50339 lines \n",
      "Finished 24000 out of 50339 lines \n",
      "Finished 25000 out of 50339 lines \n",
      "Finished 26000 out of 50339 lines \n",
      "Finished 27000 out of 50339 lines \n",
      "Finished 28000 out of 50339 lines \n",
      "Finished 29000 out of 50339 lines \n",
      "Finished 30000 out of 50339 lines \n",
      "Finished 31000 out of 50339 lines \n",
      "Finished 32000 out of 50339 lines \n",
      "Finished 33000 out of 50339 lines \n",
      "Finished 34000 out of 50339 lines \n",
      "Finished 35000 out of 50339 lines \n",
      "Finished 36000 out of 50339 lines \n",
      "Finished 37000 out of 50339 lines \n",
      "Finished 38000 out of 50339 lines \n",
      "Finished 39000 out of 50339 lines \n",
      "Finished 40000 out of 50339 lines \n",
      "Finished 41000 out of 50339 lines \n",
      "Finished 42000 out of 50339 lines \n",
      "Finished 43000 out of 50339 lines \n",
      "Finished 44000 out of 50339 lines \n",
      "Finished 45000 out of 50339 lines \n",
      "Finished 46000 out of 50339 lines \n",
      "Finished 47000 out of 50339 lines \n",
      "Finished 48000 out of 50339 lines \n",
      "Finished 49000 out of 50339 lines \n",
      "Finished 50000 out of 50339 lines \n"
     ]
    }
   ],
   "source": [
    "scores = []\n",
    "for ind, line in enumerate(lines):\n",
    "    \n",
    "    if ind % 1000 == 0:\n",
    "        print 'Finished %d out of %d lines ' % (ind, len(lines))\n",
    "    \n",
    "    line1 = line[0].lower().split() # nltk.word_tokenize(line[0])\n",
    "    line2 = line[1].lower().split() # nltk.word_tokenize(line[1])\n",
    "    line3 = line[2].lower().split() # nltk.word_tokenize(line[2])\n",
    "    \n",
    "    scores.append(get_word_embedding_distance(line1, line2, line3))"
   ]
  },
  {
   "cell_type": "code",
   "execution_count": 103,
   "metadata": {
    "collapsed": false
   },
   "outputs": [],
   "source": [
    "f = open('data/features.embedding.final', 'w')\n",
    "for score in scores:\n",
    "    f.write(' '.join([str(x) for x in score]) + '\\n')\n",
    "f.close()"
   ]
  }
 ],
 "metadata": {
  "kernelspec": {
   "display_name": "Python 2",
   "language": "python",
   "name": "python2"
  },
  "language_info": {
   "codemirror_mode": {
    "name": "ipython",
    "version": 2
   },
   "file_extension": ".py",
   "mimetype": "text/x-python",
   "name": "python",
   "nbconvert_exporter": "python",
   "pygments_lexer": "ipython2",
   "version": "2.7.11"
  }
 },
 "nbformat": 4,
 "nbformat_minor": 0
}

{
 "cells": [
  {
   "cell_type": "code",
   "execution_count": 60,
   "metadata": {
    "collapsed": true
   },
   "outputs": [],
   "source": [
    "import os\n",
    "import sys\n",
    "import codecs\n",
    "import nltk\n",
    "from nltk.tree import Tree\n",
    "from scipy.stats import pearsonr"
   ]
  },
  {
   "cell_type": "code",
   "execution_count": 57,
   "metadata": {
    "collapsed": true
   },
   "outputs": [],
   "source": [
    "path_to_parse_trees = 'data/train-test.hyp1-hyp2-ref.parse'\n",
    "path_to_labels = 'data/train.gold'"
   ]
  },
  {
   "cell_type": "code",
   "execution_count": 40,
   "metadata": {
    "collapsed": true
   },
   "outputs": [],
   "source": [
    "lines = [line.strip() for line in codecs.open(path_to_parse_trees, 'rb', encoding='utf8')]"
   ]
  },
  {
   "cell_type": "code",
   "execution_count": 58,
   "metadata": {
    "collapsed": true
   },
   "outputs": [],
   "source": [
    "labels = [int(line.strip()) for line in open(path_to_labels, 'r')]"
   ]
  },
  {
   "cell_type": "code",
   "execution_count": 41,
   "metadata": {
    "collapsed": false
   },
   "outputs": [],
   "source": [
    "curr_ind = 0\n",
    "parses = []\n",
    "for ind, line in enumerate(lines):\n",
    "    if line == '':\n",
    "        parses.append(lines[curr_ind:ind])\n",
    "        curr_ind = ind + 1"
   ]
  },
  {
   "cell_type": "code",
   "execution_count": 42,
   "metadata": {
    "collapsed": false
   },
   "outputs": [],
   "source": [
    "parses = [''.join(parse) for parse in parses]"
   ]
  },
  {
   "cell_type": "code",
   "execution_count": 43,
   "metadata": {
    "collapsed": false
   },
   "outputs": [],
   "source": [
    "grouped_parses = []\n",
    "for i in range(0, len(parses), 3):\n",
    "    grouped_parses.append(parses[i:i+3])"
   ]
  },
  {
   "cell_type": "code",
   "execution_count": 44,
   "metadata": {
    "collapsed": false
   },
   "outputs": [],
   "source": [
    "def tree_kernel(parse1, parse2):\n",
    "    parse1 = Tree.fromstring(parse1)\n",
    "    parse2 = Tree.fromstring(parse2)\n",
    "    \n",
    "    parse1_subtrees = list(parse1.subtrees())\n",
    "    parse2_subtrees = list(parse2.subtrees())\n",
    "    \n",
    "    score = 0\n",
    "    for subtree_1 in parse1_subtrees:\n",
    "        for subtree_2 in parse2_subtrees:\n",
    "            if subtree_1 == subtree_2:\n",
    "                score += len(subtree_1.leaves())\n",
    "    score = score / 2.0 # Removing a = b / b = a occurrences\n",
    "    score = float(score) / max(len(parse1_subtrees), len(parse2_subtrees))\n",
    "    \n",
    "    return score"
   ]
  },
  {
   "cell_type": "code",
   "execution_count": 47,
   "metadata": {
    "collapsed": false
   },
   "outputs": [
    {
     "name": "stdout",
     "output_type": "stream",
     "text": [
      "Finished 0 sentence pairs of out 50339 \n",
      "Finished 1000 sentence pairs of out 50339 \n",
      "Finished 2000 sentence pairs of out 50339 \n",
      "Finished 3000 sentence pairs of out 50339 \n",
      "Finished 4000 sentence pairs of out 50339 \n",
      "Finished 5000 sentence pairs of out 50339 \n",
      "Finished 6000 sentence pairs of out 50339 \n",
      "Finished 7000 sentence pairs of out 50339 \n",
      "Finished 8000 sentence pairs of out 50339 \n",
      "Finished 9000 sentence pairs of out 50339 \n",
      "Finished 10000 sentence pairs of out 50339 \n",
      "Finished 11000 sentence pairs of out 50339 \n",
      "Finished 12000 sentence pairs of out 50339 \n",
      "Finished 13000 sentence pairs of out 50339 \n",
      "Finished 14000 sentence pairs of out 50339 \n",
      "Finished 15000 sentence pairs of out 50339 \n",
      "Finished 16000 sentence pairs of out 50339 \n",
      "Finished 17000 sentence pairs of out 50339 \n",
      "Finished 18000 sentence pairs of out 50339 \n",
      "Finished 19000 sentence pairs of out 50339 \n",
      "Finished 20000 sentence pairs of out 50339 \n",
      "Finished 21000 sentence pairs of out 50339 \n",
      "Finished 22000 sentence pairs of out 50339 \n",
      "Finished 23000 sentence pairs of out 50339 \n",
      "Finished 24000 sentence pairs of out 50339 \n",
      "Finished 25000 sentence pairs of out 50339 \n",
      "Finished 26000 sentence pairs of out 50339 \n",
      "Finished 27000 sentence pairs of out 50339 \n",
      "Finished 28000 sentence pairs of out 50339 \n",
      "Finished 29000 sentence pairs of out 50339 \n",
      "Finished 30000 sentence pairs of out 50339 \n",
      "Finished 31000 sentence pairs of out 50339 \n",
      "Finished 32000 sentence pairs of out 50339 \n",
      "Finished 33000 sentence pairs of out 50339 \n",
      "Finished 34000 sentence pairs of out 50339 \n",
      "Finished 35000 sentence pairs of out 50339 \n",
      "Finished 36000 sentence pairs of out 50339 \n",
      "Finished 37000 sentence pairs of out 50339 \n",
      "Finished 38000 sentence pairs of out 50339 \n",
      "Finished 39000 sentence pairs of out 50339 \n",
      "Finished 40000 sentence pairs of out 50339 \n",
      "Finished 41000 sentence pairs of out 50339 \n",
      "Finished 42000 sentence pairs of out 50339 \n",
      "Finished 43000 sentence pairs of out 50339 \n",
      "Finished 44000 sentence pairs of out 50339 \n",
      "Finished 45000 sentence pairs of out 50339 \n",
      "Finished 46000 sentence pairs of out 50339 \n",
      "Finished 47000 sentence pairs of out 50339 \n",
      "Finished 48000 sentence pairs of out 50339 \n",
      "Finished 49000 sentence pairs of out 50339 \n",
      "Finished 50000 sentence pairs of out 50339 \n"
     ]
    }
   ],
   "source": [
    "scores = []\n",
    "for ind, parses in enumerate(grouped_parses):\n",
    "    if ind % 1000 == 0:\n",
    "        print 'Finished %d sentence pairs of out %d ' % (ind, len(grouped_parses))\n",
    "    scores.append([\n",
    "            tree_kernel(parses[0], parses[2]),\n",
    "            tree_kernel(parses[1], parses[2])\n",
    "        ])"
   ]
  },
  {
   "cell_type": "code",
   "execution_count": 66,
   "metadata": {
    "collapsed": false
   },
   "outputs": [],
   "source": [
    "f = open('data/features.parse', 'w')\n",
    "for score in scores:\n",
    "    f.write(' '.join([str(x) for x in score]) + '\\n')\n",
    "f.close()"
   ]
  },
  {
   "cell_type": "code",
   "execution_count": 69,
   "metadata": {
    "collapsed": false
   },
   "outputs": [
    {
     "data": {
      "text/plain": [
       "(0.17118232855135804, 1.6368223785981011e-171)"
      ]
     },
     "execution_count": 69,
     "metadata": {},
     "output_type": "execute_result"
    }
   ],
   "source": [
    "pearsonr([score[1] - score[0] for score in scores][:len(labels)], labels)"
   ]
  }
 ],
 "metadata": {
  "kernelspec": {
   "display_name": "Python 2",
   "language": "python",
   "name": "python2"
  },
  "language_info": {
   "codemirror_mode": {
    "name": "ipython",
    "version": 2
   },
   "file_extension": ".py",
   "mimetype": "text/x-python",
   "name": "python",
   "nbconvert_exporter": "python",
   "pygments_lexer": "ipython2",
   "version": "2.7.11"
  }
 },
 "nbformat": 4,
 "nbformat_minor": 0
}

{
 "cells": [
  {
   "cell_type": "code",
   "execution_count": 35,
   "metadata": {
    "collapsed": true
   },
   "outputs": [],
   "source": [
    "import numpy as np"
   ]
  },
  {
   "cell_type": "code",
   "execution_count": 29,
   "metadata": {
    "collapsed": true
   },
   "outputs": [],
   "source": [
    "lines1 = [line.strip().split(' ||| ') for line in open('data/output_kbest_10_stack_200_w_15_logprob', 'r')]"
   ]
  },
  {
   "cell_type": "code",
   "execution_count": 30,
   "metadata": {
    "collapsed": true
   },
   "outputs": [],
   "source": [
    "lines2 = [line.strip().split(' ||| ') for line in open('data/output_kbest_10_stack_100_window_10_distort_1_logprob', 'r')]"
   ]
  },
  {
   "cell_type": "code",
   "execution_count": 31,
   "metadata": {
    "collapsed": true
   },
   "outputs": [],
   "source": [
    "lines3 = [line.strip().split(' ||| ') for line in open('data/output_kbest_10_stack_200_w_7_logprob', 'r')]"
   ]
  },
  {
   "cell_type": "code",
   "execution_count": 32,
   "metadata": {
    "collapsed": true
   },
   "outputs": [],
   "source": [
    "lines4 = [line.strip().split(' ||| ') for line in open('data/output_kbest_10_stack_300_w_25_logprob', 'r')]"
   ]
  },
  {
   "cell_type": "code",
   "execution_count": 33,
   "metadata": {
    "collapsed": false
   },
   "outputs": [],
   "source": [
    "assert len(lines1) == len(lines2) == len(lines3) == len(lines4) == 55"
   ]
  },
  {
   "cell_type": "code",
   "execution_count": 34,
   "metadata": {
    "collapsed": false
   },
   "outputs": [
    {
     "name": "stdout",
     "output_type": "stream",
     "text": [
      "55 55 55 55\n"
     ]
    }
   ],
   "source": [
    "print len(lines1), len(lines2), len(lines3), len(lines4)"
   ]
  },
  {
   "cell_type": "code",
   "execution_count": 36,
   "metadata": {
    "collapsed": false
   },
   "outputs": [
    {
     "name": "stdout",
     "output_type": "stream",
     "text": [
      "take the turkish army has no interest in the risks implied sectarian participation in the fighting in iraq . \n",
      "until this trap erdogan has no intention of left drawn . \n",
      "while the vote for a standard of small and social rational imposed costs on those who does not vote around the world provides to vote . \n",
      "the australian want to be forced to vote . \n",
      "moreover , a business environment inflexible for women who work and family 's only option for the light is no longer . \n",
      "last year 's 1.8 came to $ 1 trillion , and a half , along with the highest much of the world . \n",
      "the paradox is that today 's real riches local reserves are not yet that can be used to stimulate the economy . \n",
      "both america 's recession will most likely , as occurred in light of experience a slowdown in the past two years . \n",
      "but they do not see carbon taxes adopters will . \n",
      "what is that chinese authorities will never know prestige of this magnitude for such potential to gain or lose faced with a challenge . \n",
      "all of this raises the question of whether china will replace applied by the us as the world power , and that defines the rules of the global economy . \n",
      "this is unsustainable precipitate a confrontation with the us , and eventually proportions ( and of europe ) . \n",
      "the more centralized political power is more , not hinder the development of the central markets . \n",
      "instead , political integration opposed could have an impact on the development of markets . \n",
      "but now appears that the country back into trouble and has also want to weaken the pact . \n",
      "internally for their part , china , and will continue to develop their ability to generate high - quality financial markets and their financial assets . \n",
      "clearly , is preferable the second option . \n",
      "during the asian financial crisis and devaluation in early 1999 brazilian decidedly argentine that the burden was overvalued . \n",
      "there was built up a current - account deficit and debt burden - proportions literally one who were full of greek . \n",
      "all this has been possible , because it has been seen as a period of political stability , considered the historical parameters exceptional . \n",
      "so far , or in publish or in any pipeline cameroon , chad 's governments have been loath to record of revenue relative to the project . \n",
      "for starters , the us now possesses a true friend and ally in the élysée palace . \n",
      "this period of time to give the union 's reconciled turkey as an opportunity to both . \n",
      "it gives rise to what is strong emotions more turkey 's muslim population . \n",
      "one day islamists to turn into a fundamentalist fears that turkey has also been . \n",
      "the european central bank 's term , established in 1998 , the new currency is running to maintain price stability . \n",
      "between 2000 and 2005 , the dollar against the euro was more than 25 % of its value . \n",
      "in a serious downturn , a country may want to pursue a policy - financed by traditional fiscal deficit and by massive keynesian stimulus . \n",
      "moreover , the current economic crisis has become tax on the need to speak of the european union has made it competition . \n",
      "could it as a reason income countries with large enough to want out . \n",
      "international agreements has never been easy to get to economic . \n",
      "for young citizens , particularly islamists , normal channels of the political participation have been closed . \n",
      "first , the war how much conventional should be able to keep the us ? \n",
      "this strategy that has endured a bipartisan in the us , and even in japan - based on surveys show a wide acceptance . \n",
      "nevertheless , the alliance faces three major challenges in a new external environment . \n",
      "what will probably deteriorates and the situation can prevent further into a systemic crisis ? \n",
      "but how , exactly , is in the heart of the new economy ? \n",
      "it is not surprising that americans are of more than half of most respected companies . \n",
      "why some trust was meant to the world war ii in the future ? \n",
      "that may produce more effective subsidies that point to fight and end poverty programs and wrong to release funds for specific job creation of removing . \n",
      "according to the world food program , 70 % of the population lack food security . \n",
      "in theory , about half of the education gap in these areas , eliminated schools , one might by building girls . \n",
      "it is estimated that six times higher than the benefits are being costs . \n",
      "indeed , many observers believe that women will determine the election results . \n",
      "the sexual doom the moral strongly support for efforts to compete in the labor market , and women typically sexual harassment pronged challenge . \n",
      "after all , women have the will force and long - time to come from the top . \n",
      "as a key factor in 2008 , unions are on to want to ensure that our economic system and the evolution of the years ahead . \n",
      "there is no doubt that the world has seen in recent decades progress on several fronts . \n",
      "but , overall are even more in many cases of the gaps are large and growing inequality . \n",
      "unfortunately , the summit will most likely to be lost an opportunity . \n",
      "it is our environmental threat at all major global warming . \n",
      "france has lost the costs and economic models show that so many or more from the additional jobs . \n",
      "this has lasted for two decades . \n",
      "new deal uribe , so it has failed to defend the military . \n",
      "not in the form of a government has been a constitutional from the electoral process has been conducted in march zimbabwe that ensued . \n"
     ]
    }
   ],
   "source": [
    "f = open('aggregated_results.')\n",
    "for line1, line2, line3, line4 in zip(lines1, lines2, lines3, lines4):\n",
    "    sentences = [line1[0], line2[0], line3[0], line4[0]]\n",
    "    scores = [float(line1[1]), float(line2[1]), float(line3[1]), float(line4[1])]\n",
    "    max_ind = np.argmax(scores)\n",
    "    print sentences[max_ind]"
   ]
  },
  {
   "cell_type": "code",
   "execution_count": null,
   "metadata": {
    "collapsed": true
   },
   "outputs": [],
   "source": []
  }
 ],
 "metadata": {
  "kernelspec": {
   "display_name": "Python 2",
   "language": "python",
   "name": "python2"
  },
  "language_info": {
   "codemirror_mode": {
    "name": "ipython",
    "version": 2
   },
   "file_extension": ".py",
   "mimetype": "text/x-python",
   "name": "python",
   "nbconvert_exporter": "python",
   "pygments_lexer": "ipython2",
   "version": "2.7.11"
  }
 },
 "nbformat": 4,
 "nbformat_minor": 0
}

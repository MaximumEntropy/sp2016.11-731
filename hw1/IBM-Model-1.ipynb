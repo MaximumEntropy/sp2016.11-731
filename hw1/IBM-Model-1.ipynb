{
 "cells": [
  {
   "cell_type": "code",
   "execution_count": 1,
   "metadata": {
    "collapsed": false
   },
   "outputs": [],
   "source": [
    "import os\n",
    "import sys\n",
    "import numpy as np\n",
    "import collections\n",
    "import time"
   ]
  },
  {
   "cell_type": "code",
   "execution_count": 2,
   "metadata": {
    "collapsed": false
   },
   "outputs": [
    {
     "name": "stderr",
     "output_type": "stream",
     "text": [
      "DEBUG:Cloud:Log file (/Users/sandeepsubramanian/.picloud/cloud.log) opened\n"
     ]
    }
   ],
   "source": [
    "from cloud.serialization.cloudpickle import dumps"
   ]
  },
  {
   "cell_type": "code",
   "execution_count": 3,
   "metadata": {
    "collapsed": true
   },
   "outputs": [],
   "source": [
    "path_to_data = '/Users/sandeepsubramanian/CMU/MachineTranslation2/sp2016.11-731/hw1/data/dev-test-train.de-en'"
   ]
  },
  {
   "cell_type": "code",
   "execution_count": 4,
   "metadata": {
    "collapsed": true
   },
   "outputs": [],
   "source": [
    "lines = [line.strip().split('|||') for line in open(path_to_data, 'r')]"
   ]
  },
  {
   "cell_type": "code",
   "execution_count": 5,
   "metadata": {
    "collapsed": false
   },
   "outputs": [],
   "source": [
    "german_lines = [line[0].strip().lower().split() for line in lines]\n",
    "english_lines = [line[1].strip().lower().split() for line in lines]"
   ]
  },
  {
   "cell_type": "code",
   "execution_count": 6,
   "metadata": {
    "collapsed": true
   },
   "outputs": [],
   "source": [
    "assert len(german_lines) == len(english_lines) == len(lines)"
   ]
  },
  {
   "cell_type": "code",
   "execution_count": 7,
   "metadata": {
    "collapsed": true
   },
   "outputs": [],
   "source": [
    "english_vocab = {}\n",
    "word_count = 0\n",
    "for line in english_lines:\n",
    "    for word in line:\n",
    "        if word not in english_vocab:\n",
    "            english_vocab[word] = word_count\n",
    "            word_count += 1"
   ]
  },
  {
   "cell_type": "code",
   "execution_count": 8,
   "metadata": {
    "collapsed": false
   },
   "outputs": [],
   "source": [
    "german_vocab = {}\n",
    "word_count = 0\n",
    "for line in german_lines:\n",
    "    for word in line:\n",
    "        if word not in german_vocab:\n",
    "            german_vocab[word] = word_count\n",
    "            word_count += 1"
   ]
  },
  {
   "cell_type": "code",
   "execution_count": 9,
   "metadata": {
    "collapsed": false
   },
   "outputs": [],
   "source": [
    "english_lines = [collections.Counter(english_sentence) for english_sentence in english_lines]\n",
    "german_lines = [collections.Counter(german_sentence) for german_sentence in german_lines]"
   ]
  },
  {
   "cell_type": "code",
   "execution_count": 10,
   "metadata": {
    "collapsed": true
   },
   "outputs": [],
   "source": [
    "uniform_probability = 1.0 / len(german_vocab)\n",
    "t = collections.defaultdict(lambda: uniform_probability) # Prevents pre-allocation of memory for entire CPT"
   ]
  },
  {
   "cell_type": "code",
   "execution_count": 12,
   "metadata": {
    "collapsed": false
   },
   "outputs": [
    {
     "name": "stdout",
     "output_type": "stream",
     "text": [
      "0.244177898524\n",
      "0.25282872332\n"
     ]
    }
   ],
   "source": [
    "\"\"\"\n",
    "Pseudocode: Source - https://www.cl.cam.ac.uk/teaching/1011/L102/clark-lecture3.pdf Page 25\n",
    "initialize t(f|e) uniformly\n",
    "do\n",
    "   set count(f|e) to 0 for all f,e\n",
    "   set total(e) to 0 for all e\n",
    "   for all sentence pairs (f_s,e_s)\n",
    "       for all unique words f in f_s\n",
    "           n_f = count of f in f_s\n",
    "           total_s = 0\n",
    "           for all unique words e in e_s\n",
    "               total_s += t(f|e) * n_f\n",
    "           for all unique words e in e_s\n",
    "               n_e = count of e in e_s\n",
    "               count(f|e) += t(f|e) * n_f * n_e / total_s\n",
    "               total(e) += t(f|e) * n_f * n_e / total_s\n",
    "   for all e in domain( total(.) )\n",
    "       for all f in domain( count(.|e) )\n",
    "           t(f|e) = count(f|e) / total(e)\n",
    "until convergence\n",
    "\"\"\"\n",
    "num_iter = 72\n",
    "prev_prob = uniform_probability\n",
    "for ind in range(num_iter):\n",
    " \n",
    "    count = collections.defaultdict(float)\n",
    "    total = collections.defaultdict(float)\n",
    "   \n",
    "    for english_sentence, german_sentence in zip(english_lines, german_lines):\n",
    "        \n",
    "        for english_word in english_sentence:\n",
    "            total_sentence = 0\n",
    "            \n",
    "            for german_word in german_sentence:\n",
    "                total_sentence += t[(english_word, german_word)] * english_sentence[english_word]\n",
    "            \n",
    "            for german_word in german_sentence:\n",
    "                x = t[(english_word, german_word)] * english_sentence[english_word] * german_sentence[german_word] / total_sentence\n",
    "                count[(english_word, german_word)] += x\n",
    "                total[german_word] += x\n",
    " \n",
    "    for english_word, german_word in count.keys():\n",
    "        t[(english_word, german_word)] = count[(english_word, german_word)] / total[german_word]\n",
    "   \n",
    "    # EM convergence criteria\n",
    "    #if t[('the', 'der')] - prev_prob < 1e-4:\n",
    "    #    break\n",
    "   \n",
    "    print t[('the', 'der')]"
   ]
  },
  {
   "cell_type": "code",
   "execution_count": 21,
   "metadata": {
    "collapsed": true
   },
   "outputs": [],
   "source": [
    "def penalty_term(i,j,index):\n",
    "    if index == 2:\n",
    "        return abs(i-j)\n",
    "    return (i-j)*2"
   ]
  },
  {
   "cell_type": "code",
   "execution_count": null,
   "metadata": {
    "collapsed": false
   },
   "outputs": [],
   "source": [
    "german_lines = [line[0].strip().lower().split() for line in lines]\n",
    "english_lines = [line[1].strip().lower().split() for line in lines]\n",
    "\n",
    "f = open('output.txt','w')\n",
    "for english_sent, german_sent in zip(english_lines, german_lines):\n",
    "    aligned_words = []\n",
    "    for ind1, eng_word in enumerate(english_sent):\n",
    "        translation_scores = [(1.0 / ((1.0 + penalty_term(float(ind1)/len(english_sent),float(ind2)/len(german_sent),2)))) * t[(eng_word, german_word)] for ind2, german_word in enumerate(german_sent)]\n",
    "        aligned_word = np.argmax(np.array(translation_scores).astype(np.float32))\n",
    "        aligned_words.append('%d-%d' % (aligned_word, ind1) )\n",
    "    f.write(' '.join(aligned_words) + '\\n')\n",
    "f.close()"
   ]
  },
  {
   "cell_type": "code",
   "execution_count": 20,
   "metadata": {
    "collapsed": false
   },
   "outputs": [],
   "source": [
    "german_lines = [line[0].strip().lower().split() for line in lines]\n",
    "english_lines = [line[1].strip().lower().split() for line in lines]\n",
    "g = open('german_sents.txt', 'w')\n",
    "for line in german_lines:\n",
    "    g.write(' '.join(line) + '\\n')\n",
    "g.close()\n",
    "g = open('english_sents.txt', 'w')\n",
    "for line in english_lines:\n",
    "    g.write(' '.join(line) + '\\n')\n",
    "g.close()"
   ]
  },
  {
   "cell_type": "code",
   "execution_count": null,
   "metadata": {
    "collapsed": true
   },
   "outputs": [],
   "source": []
  }
 ],
 "metadata": {
  "kernelspec": {
   "display_name": "Python 2",
   "language": "python",
   "name": "python2"
  },
  "language_info": {
   "codemirror_mode": {
    "name": "ipython",
    "version": 2
   },
   "file_extension": ".py",
   "mimetype": "text/x-python",
   "name": "python",
   "nbconvert_exporter": "python",
   "pygments_lexer": "ipython2",
   "version": "2.7.11"
  }
 },
 "nbformat": 4,
 "nbformat_minor": 0
}

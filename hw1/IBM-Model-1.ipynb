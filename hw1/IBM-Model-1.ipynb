{
 "cells": [
  {
   "cell_type": "code",
   "execution_count": 1,
   "metadata": {
    "collapsed": false
   },
   "outputs": [],
   "source": [
    "import os\n",
    "import sys\n",
    "import numpy as np\n",
    "import collections\n",
    "import time"
   ]
  },
  {
   "cell_type": "code",
   "execution_count": 2,
   "metadata": {
    "collapsed": false
   },
   "outputs": [
    {
     "name": "stderr",
     "output_type": "stream",
     "text": [
      "DEBUG:Cloud:Log file (/Users/sandeepsubramanian/.picloud/cloud.log) opened\n"
     ]
    }
   ],
   "source": [
    "from cloud.serialization.cloudpickle import dumps"
   ]
  },
  {
   "cell_type": "code",
   "execution_count": 3,
   "metadata": {
    "collapsed": true
   },
   "outputs": [],
   "source": [
    "path_to_data = '/Users/sandeepsubramanian/CMU/MachineTranslation2/sp2016.11-731/hw1/data/dev-test-train.de-en'"
   ]
  },
  {
   "cell_type": "code",
   "execution_count": 4,
   "metadata": {
    "collapsed": true
   },
   "outputs": [],
   "source": [
    "lines = [line.strip().split('|||') for line in open(path_to_data, 'r')]"
   ]
  },
  {
   "cell_type": "code",
   "execution_count": 5,
   "metadata": {
    "collapsed": false
   },
   "outputs": [],
   "source": [
    "german_lines = [line[0].strip().lower().split() for line in lines]\n",
    "english_lines = [line[1].strip().lower().split() for line in lines]"
   ]
  },
  {
   "cell_type": "code",
   "execution_count": 6,
   "metadata": {
    "collapsed": true
   },
   "outputs": [],
   "source": [
    "assert len(german_lines) == len(english_lines) == len(lines)"
   ]
  },
  {
   "cell_type": "code",
   "execution_count": 7,
   "metadata": {
    "collapsed": true
   },
   "outputs": [],
   "source": [
    "english_vocab = {}\n",
    "word_count = 0\n",
    "for line in english_lines:\n",
    "    for word in line:\n",
    "        if word not in english_vocab:\n",
    "            english_vocab[word] = word_count\n",
    "            word_count += 1"
   ]
  },
  {
   "cell_type": "code",
   "execution_count": 8,
   "metadata": {
    "collapsed": false
   },
   "outputs": [],
   "source": [
    "german_vocab = {}\n",
    "word_count = 0\n",
    "for line in german_lines:\n",
    "    for word in line:\n",
    "        if word not in german_vocab:\n",
    "            german_vocab[word] = word_count\n",
    "            word_count += 1"
   ]
  },
  {
   "cell_type": "code",
   "execution_count": 9,
   "metadata": {
    "collapsed": false
   },
   "outputs": [],
   "source": [
    "english_lines = [collections.Counter(english_sentence) for english_sentence in english_lines]\n",
    "german_lines = [collections.Counter(german_sentence) for german_sentence in german_lines]"
   ]
  },
  {
   "cell_type": "code",
   "execution_count": 10,
   "metadata": {
    "collapsed": true
   },
   "outputs": [],
   "source": [
    "uniform_probability = 1.0 / len(german_vocab)\n",
    "t = collections.defaultdict(lambda: uniform_probability) # Prevents pre-allocation of memory for entire CPT"
   ]
  },
  {
   "cell_type": "code",
   "execution_count": 12,
   "metadata": {
    "collapsed": false
   },
   "outputs": [
    {
     "name": "stdout",
     "output_type": "stream",
     "text": [
      "0.244177898524\n",
      "0.25282872332\n"
     ]
    }
   ],
   "source": [
    "\"\"\"\n",
    "Pseudocode: Source - https://www.cl.cam.ac.uk/teaching/1011/L102/clark-lecture3.pdf Page 25\n",
    "initialize t(f|e) uniformly\n",
    "do\n",
    "   set count(f|e) to 0 for all f,e\n",
    "   set total(e) to 0 for all e\n",
    "   for all sentence pairs (f_s,e_s)\n",
    "       for all unique words f in f_s\n",
    "           n_f = count of f in f_s\n",
    "           total_s = 0\n",
    "           for all unique words e in e_s\n",
    "               total_s += t(f|e) * n_f\n",
    "           for all unique words e in e_s\n",
    "               n_e = count of e in e_s\n",
    "               count(f|e) += t(f|e) * n_f * n_e / total_s\n",
    "               total(e) += t(f|e) * n_f * n_e / total_s\n",
    "   for all e in domain( total(.) )\n",
    "       for all f in domain( count(.|e) )\n",
    "           t(f|e) = count(f|e) / total(e)\n",
    "until convergence\n",
    "\"\"\"\n",
    "num_iter = 2\n",
    "prev_prob = uniform_probability\n",
    "for ind in range(num_iter):\n",
    " \n",
    "    count = collections.defaultdict(float)\n",
    "    total = collections.defaultdict(float)\n",
    "   \n",
    "    for english_sentence, german_sentence in zip(english_lines, german_lines):\n",
    "        \n",
    "        for english_word in english_sentence:\n",
    "            total_sentence = 0\n",
    "            \n",
    "            for german_word in german_sentence:\n",
    "                total_sentence += t[(english_word, german_word)] * english_sentence[english_word]\n",
    "            \n",
    "            for german_word in german_sentence:\n",
    "                x = t[(english_word, german_word)] * english_sentence[english_word] * german_sentence[german_word] / total_sentence\n",
    "                count[(english_word, german_word)] += x\n",
    "                total[german_word] += x\n",
    " \n",
    "    for english_word, german_word in count.keys():\n",
    "        t[(english_word, german_word)] = count[(english_word, german_word)] / total[german_word]\n",
    "   \n",
    "    # EM convergence criteria\n",
    "    #if t[('the', 'der')] - prev_prob < 1e-4:\n",
    "    #    break\n",
    "   \n",
    "    print t[('the', 'der')]"
   ]
  },
  {
   "cell_type": "code",
   "execution_count": 14,
   "metadata": {
    "collapsed": false
   },
   "outputs": [],
   "source": [
    "german_lines = [line[0].strip().lower().split() for line in lines]\n",
    "english_lines = [line[1].strip().lower().split() for line in lines]\n",
    "f = open('output.txt', 'w')\n",
    "for english_sent, german_sent in zip(english_lines, german_lines)[:1000]:\n",
    "    aligned_words = []\n",
    "    for ind1, eng_word in enumerate(english_sent):\n",
    "        norm = sum([1.0 / ((1.0 + abs(ind2 - ind1)) ** 2) for ind2, german_word in enumerate(german_sent)])\n",
    "        translation_scores = [(1.0 / ((1.0 + abs(ind2 - ind1)) ** 2)) / norm * t[(eng_word, german_word)] for ind2, german_word in enumerate(german_sent)]\n",
    "        aligned_word = np.argmax(np.array(translation_scores).astype(np.float32))\n",
    "        aligned_words.append('%d-%d' % (aligned_word, ind1))\n",
    "    f.write(' '.join(aligned_words) + '\\n')\n",
    "f.close()"
   ]
  },
  {
   "cell_type": "code",
   "execution_count": 85,
   "metadata": {
    "collapsed": false
   },
   "outputs": [
    {
     "data": {
      "text/plain": [
       "array([   0.,    1.,    2.,    3.,    4.,    5.,    6.,    7.,    8.,\n",
       "          9.,   10.,   11.,   12.,   13.,   14.,   15.,   16.,   17.,\n",
       "         18.,   19.,   20.,   21.,   22.,   23.,   24.,   25.,   26.,\n",
       "         27.,   28.,   29.,   30.,   31.,   32.,   33.,   34.,   35.,\n",
       "         36.,   37.,   38.,   39.,   40.,   41.,   42.,   43.,   44.,\n",
       "         45.,   46.,   47.,   48.,   49.,   50.,   51.,   52.,   53.,\n",
       "         54.,   55.,   56.,   57.,   58.,   59.,   60.,   61.,   62.,\n",
       "         63.,   64.,   65.,   66.,   67.,   68.,   69.,   70.,   71.,\n",
       "         72.,   73.,   74.,   75.,   76.,   77.,   78.,   79.,   80.,\n",
       "         81.,   82.,   83.,   84.,   85.,   86.,   87.,   88.,   89.,\n",
       "         90.,   91.,   92.,   93.,   94.,   95.,   96.,   97.,   98.,\n",
       "         99.,  100.,  101.,  102.,  103.,  104.,  105.,  106.,  107.,\n",
       "        108.,  109.,  110.,  111.,  112.,  113.,  114.,  115.,  116.,\n",
       "        117.,  118.,  119.,  120.,  121.,  122.,  123.,  124.,  125.,\n",
       "        126.,  127.,  128.,  129.,  130.,  131.,  132.,  133.,  134.,\n",
       "        135.,  136.,  137.,  138.,  139.,  140.,  141.,  142.,  143.,\n",
       "        144.,  145.,  146.,  147.,  148.,  149.,  150.,  151.,  152.,\n",
       "        153.,  154.,  155.,  156.,  157.,  158.,  159.,  160.,  161.,\n",
       "        162.,  163.,  164.,  165.,  166.,  167.,  168.,  169.,  170.,\n",
       "        171.,  172.,  173.,  174.,  175.,  176.,  177.,  178.,  179.,\n",
       "        180.,  181.,  182.,  183.,  184.,  185.,  186.,  187.,  188.,\n",
       "        189.,  190.,  191.,  192.,  193.,  194.,  195.,  196.,  197.,\n",
       "        198.,  199.,  200.,  201.,  202.,  203.,  204.,  205.,  206.,\n",
       "        207.,  208.,  209.,  210.,  211.,  212.,  213.,  214.,  215.,\n",
       "        216.,  217.,  218.,  219.,  220.,  221.,  222.,  223.,  224.,\n",
       "        225.,  226.,  227.,  228.,  229.,  230.,  231.,  232.,  233.,\n",
       "        234.,  235.,  236.,  237.,  238.,  239.,  240.,  241.,  242.,\n",
       "        243.,  244.,  245.,  246.,  247.,  248.,  249.,  250.,  251.,\n",
       "        252.,  253.,  254.,  255.,  256.,  257.,  258.,  259.,  260.,\n",
       "        261.,  262.,  263.,  264.,  265.,  266.,  267.,  268.,  269.,\n",
       "        270.,  271.,  272.,  273.,  274.,  275.,  276.,  277.,  278.,\n",
       "        279.,  280.,  281.,  282.,  283.,  284.,  285.,  286.,  287.,\n",
       "        288.,  289.,  290.,  291.,  292.,  293.,  294.,  295.,  296.,\n",
       "        297.,  298.,  299.,  300.,  301.,  302.,  303.,  304.,  305.,\n",
       "        306.,  307.,  308.,  309.,  310.,  311.,  312.,  313.,  314.,\n",
       "        315.,  316.,  317.,  318.,  319.,  320.,  321.,  322.,  323.,\n",
       "        324.,  325.,  326.,  327.,  328.,  329.,  330.,  331.,  332.,\n",
       "        333.,  334.,  335.,  336.,  337.,  338.,  339.,  340.,  341.,\n",
       "        342.,  343.,  344.,  345.,  346.,  347.,  348.,  349.,  350.,\n",
       "        351.,  352.,  353.,  354.,  355.,  356.,  357.,  358.,  359.,\n",
       "        360.,  361.,  362.,  363.,  364.,  365.,  366.,  367.,  368.,\n",
       "        369.,  370.,  371.,  372.,  373.,  374.,  375.,  376.,  377.,\n",
       "        378.,  379.,  380.,  381.,  382.,  383.,  384.,  385.,  386.,\n",
       "        387.,  388.,  389.,  390.,  391.,  392.,  393.,  394.,  395.,\n",
       "        396.,  397.,  398.,  399.,  400.,  401.,  402.,  403.,  404.,\n",
       "        405.,  406.,  407.,  408.,  409.,  410.,  411.,  412.,  413.,\n",
       "        414.,  415.,  416.,  417.,  418.,  419.,  420.,  421.,  422.,\n",
       "        423.,  424.,  425.,  426.,  427.,  428.,  429.,  430.,  431.,\n",
       "        432.,  433.,  434.,  435.,  436.,  437.,  438.,  439.,  440.,\n",
       "        441.,  442.,  443.,  444.,  445.,  446.,  447.,  448.,  449.,\n",
       "        450.,  451.,  452.,  453.,  454.,  455.,  456.,  457.,  458.,\n",
       "        459.,  460.,  461.,  462.,  463.,  464.,  465.,  466.,  467.,\n",
       "        468.,  469.,  470.,  471.,  472.,  473.,  474.,  475.,  476.,\n",
       "        477.,  478.,  479.,  480.,  481.,  482.,  483.,  484.,  485.,\n",
       "        486.,  487.,  488.,  489.,  490.,  491.,  492.,  493.,  494.,\n",
       "        495.,  496.,  497.,  498.,  499.])"
      ]
     },
     "execution_count": 85,
     "metadata": {},
     "output_type": "execute_result"
    }
   ],
   "source": [
    "np.repeat(np.expand_dims(np.arange(500)*1.0, axis=0), 500, axis=0)[0]"
   ]
  },
  {
   "cell_type": "code",
   "execution_count": 92,
   "metadata": {
    "collapsed": false
   },
   "outputs": [
    {
     "data": {
      "text/plain": [
       "array([[  -2.,   -1.,    0., ...,  495.,  496.,  497.],\n",
       "       [  -2.,   -1.,    0., ...,  495.,  496.,  497.],\n",
       "       [  -2.,   -1.,    0., ...,  495.,  496.,  497.],\n",
       "       ..., \n",
       "       [  -2.,   -1.,    0., ...,  495.,  496.,  497.],\n",
       "       [  -2.,   -1.,    0., ...,  495.,  496.,  497.],\n",
       "       [  -2.,   -1.,    0., ...,  495.,  496.,  497.]])"
      ]
     },
     "execution_count": 92,
     "metadata": {},
     "output_type": "execute_result"
    }
   ],
   "source": [
    "np.repeat(np.expand_dims(np.arange(500)*1.0, axis=0), 500, axis=0) - np.repeat(np.expand_dims(np.arange(500)*1.0, axis=0), 500, axis=0).transpose()[2]"
   ]
  },
  {
   "cell_type": "code",
   "execution_count": null,
   "metadata": {
    "collapsed": true
   },
   "outputs": [],
   "source": []
  }
 ],
 "metadata": {
  "kernelspec": {
   "display_name": "Python 2",
   "language": "python",
   "name": "python2"
  },
  "language_info": {
   "codemirror_mode": {
    "name": "ipython",
    "version": 2
   },
   "file_extension": ".py",
   "mimetype": "text/x-python",
   "name": "python",
   "nbconvert_exporter": "python",
   "pygments_lexer": "ipython2",
   "version": "2.7.11"
  }
 },
 "nbformat": 4,
 "nbformat_minor": 0
}
